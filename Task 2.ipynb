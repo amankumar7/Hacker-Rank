{
 "cells": [
  {
   "cell_type": "markdown",
   "metadata": {},
   "source": [
    "# Task 2"
   ]
  },
  {
   "cell_type": "markdown",
   "metadata": {},
   "source": [
    "### Correlation and Regression Lines - A Quick Recap #1"
   ]
  },
  {
   "cell_type": "code",
   "execution_count": 68,
   "metadata": {},
   "outputs": [],
   "source": [
    "x = [15,12,8,8,7,7,7,6,5,3]\n",
    "y = [10,25,17,11,13,17,20,13,9,15]\n",
    "length = len(x)"
   ]
  },
  {
   "cell_type": "code",
   "execution_count": 69,
   "metadata": {},
   "outputs": [],
   "source": [
    "# r = a / b\n",
    "# xbar = sum( x / length)\n",
    "# ybar = sum( y / length)\n",
    "# a = sum((x - xbar) * (y - ybar)) \n",
    "# b = squrt ( sum ((x - xbar)**2) + sum((y - ybar)**2) ) "
   ]
  },
  {
   "cell_type": "code",
   "execution_count": 70,
   "metadata": {},
   "outputs": [
    {
     "name": "stdout",
     "output_type": "stream",
     "text": [
      "7.8 15.0\n"
     ]
    }
   ],
   "source": [
    "xbar = sum (x) / length ; ybar = sum(y) / length \n",
    "print(xbar,ybar)"
   ]
  },
  {
   "cell_type": "code",
   "execution_count": 71,
   "metadata": {},
   "outputs": [
    {
     "name": "stdout",
     "output_type": "stream",
     "text": [
      "[7.2, 4.2, 0.20000000000000018, 0.20000000000000018, -0.7999999999999998, -0.7999999999999998, -0.7999999999999998, -1.7999999999999998, -2.8, -4.8]\n",
      "[-5.0, 10.0, 2.0, -4.0, -2.0, 2.0, 5.0, -2.0, -6.0, 0.0]\n"
     ]
    }
   ],
   "source": [
    "xx = [i-xbar for i in x] ; yy = [i-ybar for i in y]\n",
    "print(xx)\n",
    "print(yy)"
   ]
  },
  {
   "cell_type": "code",
   "execution_count": 72,
   "metadata": {},
   "outputs": [
    {
     "name": "stdout",
     "output_type": "stream",
     "text": [
      "[-36.0, 42.0, 0.40000000000000036, -0.8000000000000007, 1.5999999999999996, -1.5999999999999996, -3.999999999999999, 3.5999999999999996, 16.799999999999997, -0.0]\n",
      "21.999999999999996\n"
     ]
    }
   ],
   "source": [
    "a = ([i*j for i,j in zip(xx,yy)])\n",
    "print(a)\n",
    "a=sum(a)\n",
    "print(a)"
   ]
  },
  {
   "cell_type": "code",
   "execution_count": 84,
   "metadata": {},
   "outputs": [],
   "source": [
    "xx = sum([(i-xbar)**2 for i in x]) ; yy = sum([(i-ybar)**2 for i in y])"
   ]
  },
  {
   "cell_type": "code",
   "execution_count": 85,
   "metadata": {},
   "outputs": [
    {
     "name": "stdout",
     "output_type": "stream",
     "text": [
      "105.60000000000002 218.0\n"
     ]
    }
   ],
   "source": [
    "print(xx,yy) "
   ]
  },
  {
   "cell_type": "code",
   "execution_count": 86,
   "metadata": {},
   "outputs": [
    {
     "name": "stdout",
     "output_type": "stream",
     "text": [
      "151.72606895322903\n"
     ]
    }
   ],
   "source": [
    "from math import sqrt\n",
    "b = sqrt(xx*yy)\n",
    "print(b)"
   ]
  },
  {
   "cell_type": "code",
   "execution_count": 87,
   "metadata": {},
   "outputs": [],
   "source": [
    "r = round(a / b,3)"
   ]
  },
  {
   "cell_type": "code",
   "execution_count": 88,
   "metadata": {},
   "outputs": [
    {
     "name": "stdout",
     "output_type": "stream",
     "text": [
      "Karl Pearson’s coefficient of correlation =  0.145\n"
     ]
    }
   ],
   "source": [
    "print(\"Karl Pearson’s coefficient of correlation = \",r)"
   ]
  },
  {
   "cell_type": "markdown",
   "metadata": {},
   "source": [
    "### Correlation and Regression Lines - A Quick Recap #2"
   ]
  },
  {
   "cell_type": "code",
   "execution_count": 89,
   "metadata": {},
   "outputs": [],
   "source": [
    "x = [15,12,8,8,7,7,7,6,5,3]\n",
    "y = [10,25,17,11,13,17,20,13,9,15]\n",
    "length = len(x)"
   ]
  },
  {
   "cell_type": "code",
   "execution_count": null,
   "metadata": {},
   "outputs": [],
   "source": [
    "# slope = a / b\n",
    "# a = sum((x-xbar)*(y-ybar))\n",
    "# b = sum ((x-xbar)**2)\n",
    "# x is independent variable and y is dependent variable"
   ]
  },
  {
   "cell_type": "code",
   "execution_count": 90,
   "metadata": {},
   "outputs": [],
   "source": [
    "xbar = sum(x)/length ; ybar = sum(y)/length"
   ]
  },
  {
   "cell_type": "code",
   "execution_count": 92,
   "metadata": {},
   "outputs": [],
   "source": [
    "xx = [i-xbar for i in x] ; yy = [i-ybar for i in y]"
   ]
  },
  {
   "cell_type": "code",
   "execution_count": 93,
   "metadata": {},
   "outputs": [],
   "source": [
    "a = sum([i*j for i,j in zip(xx,yy)])"
   ]
  },
  {
   "cell_type": "code",
   "execution_count": 97,
   "metadata": {},
   "outputs": [],
   "source": [
    "b = sum([i*i for i in xx])"
   ]
  },
  {
   "cell_type": "code",
   "execution_count": 98,
   "metadata": {},
   "outputs": [],
   "source": [
    "slope = a / b"
   ]
  },
  {
   "cell_type": "code",
   "execution_count": 115,
   "metadata": {},
   "outputs": [
    {
     "name": "stdout",
     "output_type": "stream",
     "text": [
      "0.208\n"
     ]
    }
   ],
   "source": [
    "print(round(slope,3))"
   ]
  },
  {
   "cell_type": "markdown",
   "metadata": {},
   "source": [
    "### Correlation and Regression Lines - A Quick Recap #3"
   ]
  },
  {
   "cell_type": "code",
   "execution_count": 116,
   "metadata": {},
   "outputs": [],
   "source": [
    "x = [15,12,8,8,7,7,7,6,5,3]\n",
    "y = [10,25,17,11,13,17,20,13,9,15]\n",
    "length = len(x)"
   ]
  },
  {
   "cell_type": "code",
   "execution_count": 117,
   "metadata": {},
   "outputs": [],
   "source": [
    "xbar = sum(x)/length ; ybar = sum(y)/length"
   ]
  },
  {
   "cell_type": "code",
   "execution_count": 118,
   "metadata": {},
   "outputs": [],
   "source": [
    "xx = [i-xbar for i in x] ; yy = [i-ybar for i in y]"
   ]
  },
  {
   "cell_type": "code",
   "execution_count": 119,
   "metadata": {},
   "outputs": [],
   "source": [
    "a = sum([i*j for i,j in zip(xx,yy)])"
   ]
  },
  {
   "cell_type": "code",
   "execution_count": 120,
   "metadata": {},
   "outputs": [],
   "source": [
    "b = sum([i*i for i in xx])"
   ]
  },
  {
   "cell_type": "code",
   "execution_count": 121,
   "metadata": {},
   "outputs": [],
   "source": [
    "slope = a / b"
   ]
  },
  {
   "cell_type": "code",
   "execution_count": 122,
   "metadata": {},
   "outputs": [
    {
     "data": {
      "text/plain": [
       "0.20833333333333326"
      ]
     },
     "execution_count": 122,
     "metadata": {},
     "output_type": "execute_result"
    }
   ],
   "source": [
    "slope"
   ]
  },
  {
   "cell_type": "code",
   "execution_count": 123,
   "metadata": {},
   "outputs": [],
   "source": [
    "# y = slope * x + c"
   ]
  },
  {
   "cell_type": "code",
   "execution_count": 128,
   "metadata": {},
   "outputs": [],
   "source": [
    "c = ybar - (slope * xbar) "
   ]
  },
  {
   "cell_type": "code",
   "execution_count": 129,
   "metadata": {},
   "outputs": [],
   "source": [
    "y = slope * 10 + c "
   ]
  },
  {
   "cell_type": "code",
   "execution_count": 130,
   "metadata": {},
   "outputs": [
    {
     "name": "stdout",
     "output_type": "stream",
     "text": [
      "15.5\n"
     ]
    }
   ],
   "source": [
    "print(round(y,1))"
   ]
  },
  {
   "cell_type": "code",
   "execution_count": null,
   "metadata": {},
   "outputs": [],
   "source": []
  }
 ],
 "metadata": {
  "kernelspec": {
   "display_name": "Python 3",
   "language": "python",
   "name": "python3"
  },
  "language_info": {
   "codemirror_mode": {
    "name": "ipython",
    "version": 3
   },
   "file_extension": ".py",
   "mimetype": "text/x-python",
   "name": "python",
   "nbconvert_exporter": "python",
   "pygments_lexer": "ipython3",
   "version": "3.6.6"
  }
 },
 "nbformat": 4,
 "nbformat_minor": 2
}
